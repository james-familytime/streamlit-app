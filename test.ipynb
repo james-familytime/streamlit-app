{
 "cells": [
  {
   "cell_type": "code",
   "execution_count": 6,
   "metadata": {},
   "outputs": [],
   "source": [
    "s = \"aabcdeffgabcdef\"\n",
    "k = \"abcdef\""
   ]
  },
  {
   "cell_type": "code",
   "execution_count": 11,
   "metadata": {},
   "outputs": [
    {
     "name": "stdout",
     "output_type": "stream",
     "text": [
      "raw: aabcde\n",
      "raw: abcdef\n",
      "abcdef\n",
      "(1, 6)\n",
      "raw: bcdeff\n",
      "raw: cdeffg\n",
      "raw: deffga\n",
      "raw: effgab\n",
      "raw: ffgabc\n",
      "raw: fgabcd\n",
      "raw: gabcde\n",
      "raw: abcdef\n",
      "abcdef\n",
      "(9, 14)\n",
      "raw: bcdef\n",
      "raw: cdef\n",
      "raw: def\n",
      "raw: ef\n",
      "raw: f\n"
     ]
    }
   ],
   "source": [
    "for i in range(len(s)):\n",
    "    sub = s[i:i + len(k)]\n",
    "    print(f\"raw: {sub}\")\n",
    "    if sub == k:\n",
    "        print(sub)\n",
    "        print((i, i + len(k)-1))"
   ]
  },
  {
   "cell_type": "code",
   "execution_count": 12,
   "metadata": {},
   "outputs": [],
   "source": [
    "import re"
   ]
  },
  {
   "cell_type": "code",
   "execution_count": 66,
   "metadata": {},
   "outputs": [],
   "source": [
    "# Search for a pattern in a string\n",
    "pattern = r\"&{2}\"  # Looks for 3 consecutive digits\n",
    "pattern = re.compile(pattern=pattern)"
   ]
  },
  {
   "cell_type": "code",
   "execution_count": 67,
   "metadata": {},
   "outputs": [],
   "source": [
    "text1 = \"My phone number is 123-456-7890\""
   ]
  },
  {
   "cell_type": "code",
   "execution_count": 68,
   "metadata": {},
   "outputs": [],
   "source": [
    "text2 = \"Replace 12 apples && / || 34 oranges\""
   ]
  },
  {
   "cell_type": "code",
   "execution_count": 69,
   "metadata": {},
   "outputs": [],
   "source": [
    "def replace_str(match):\n",
    "    value = match.group(0)\n",
    "    return \"and\""
   ]
  },
  {
   "cell_type": "code",
   "execution_count": 70,
   "metadata": {},
   "outputs": [],
   "source": [
    "result = re.sub(pattern, replace_str, text2)"
   ]
  },
  {
   "cell_type": "code",
   "execution_count": 71,
   "metadata": {},
   "outputs": [
    {
     "name": "stdout",
     "output_type": "stream",
     "text": [
      "Replace 12 apples and / || 34 oranges\n"
     ]
    }
   ],
   "source": [
    "print(result)"
   ]
  },
  {
   "cell_type": "code",
   "execution_count": 3,
   "metadata": {},
   "outputs": [],
   "source": [
    "import os\n",
    "import zipfile\n",
    "from PIL import Image\n",
    "\n",
    "def convert_images_to_pdf(zip_path, output_pdf_path):\n",
    "    \"\"\"\n",
    "    Convert images from a ZIP file to a single PDF file.\n",
    "    \n",
    "    :param zip_path: Path to the ZIP file containing images.\n",
    "    :param output_pdf_path: Path to save the generated PDF.\n",
    "    \"\"\"\n",
    "    # Create a temporary directory to extract images\n",
    "    temp_dir = \"temp_images\"\n",
    "    if not os.path.exists(temp_dir):\n",
    "        os.makedirs(temp_dir)\n",
    "\n",
    "    try:\n",
    "        # Extract the ZIP file\n",
    "        with zipfile.ZipFile(zip_path, 'r') as zip_ref:\n",
    "            zip_ref.extractall(temp_dir)\n",
    "\n",
    "        # Gather all image file paths\n",
    "        image_files = [os.path.join(temp_dir, f) for f in os.listdir(temp_dir)\n",
    "                       if f.lower().endswith(('png', 'jpg', 'jpeg', 'bmp', 'gif'))]\n",
    "\n",
    "        # Sort image files by name (to maintain order)\n",
    "        image_files.sort()\n",
    "\n",
    "        if not image_files:\n",
    "            print(\"No images found in the ZIP file.\")\n",
    "            return\n",
    "\n",
    "        # Open images and prepare for PDF conversion\n",
    "        images = [Image.open(img).convert(\"RGB\") for img in image_files]\n",
    "\n",
    "        # Save images as a PDF\n",
    "        images[0].save(output_pdf_path, save_all=True, append_images=images[1:])\n",
    "        print(f\"PDF saved successfully at: {output_pdf_path}\")\n",
    "\n",
    "    except Exception as e:\n",
    "        print(f\"An error occurred: {e}\")\n",
    "\n",
    "    finally:\n",
    "        # Clean up temporary files\n",
    "        for img_file in os.listdir(temp_dir):\n",
    "            os.remove(os.path.join(temp_dir, img_file))\n",
    "        os.rmdir(temp_dir)"
   ]
  },
  {
   "cell_type": "code",
   "execution_count": 4,
   "metadata": {},
   "outputs": [
    {
     "name": "stdout",
     "output_type": "stream",
     "text": [
      "PDF saved successfully at: C:\\Users\\ENGRACED\\Downloads\\PlagReport30_adj.pdf\n"
     ]
    }
   ],
   "source": [
    "from pathlib import Path\n",
    "\n",
    "# Example usage\n",
    "filename = \"PlagReport30\"\n",
    "zip_path = Path(f\"C:/Users/ENGRACED/Downloads/{filename}.zip\")  # Replace with the path to your ZIP file\n",
    "output_pdf_path = Path(f\"C:/Users/ENGRACED/Downloads/{filename}_adj.pdf\")  # Replace with the desired PDF file path\n",
    "convert_images_to_pdf(zip_path, output_pdf_path)"
   ]
  },
  {
   "cell_type": "code",
   "execution_count": 12,
   "metadata": {},
   "outputs": [
    {
     "name": "stdout",
     "output_type": "stream",
     "text": [
      "session_info\n"
     ]
    }
   ],
   "source": [
    "event_title = \"🏫 Labor Day - Mila\"\n",
    "existing_emoji = \"🏫\"\n",
    "\n",
    "event_type = \"\"\n",
    "if \"🏫❌\" in event_title:\n",
    "    event_type = \"closure\"\n",
    "elif \"🏫\" in event_title:\n",
    "    event_type = \"session_info\"\n",
    "elif \"📌\" in event_title:\n",
    "    event_type = \"Notable day\"\n",
    "elif \"🏃🏻⏱\" in event_title:\n",
    "    event_type = \"Early dismissal\"\n",
    "else:\n",
    "    event_type = \"Email\"\n",
    "\n",
    "print(event_type)"
   ]
  },
  {
   "cell_type": "code",
   "execution_count": 12,
   "metadata": {},
   "outputs": [
    {
     "name": "stdout",
     "output_type": "stream",
     "text": [
      "dhs.darienps.org\n",
      "True\n"
     ]
    }
   ],
   "source": [
    "from urllib.parse import urlparse\n",
    "\n",
    "url = \"https://dhs.darienps.org/\"\n",
    "\n",
    "parsed_url = urlparse(url).netloc\n",
    "print(parsed_url)\n",
    "subdomain = parsed_url.split(\".\")[0]\n",
    "\n",
    "name: str = \"dh\"\n",
    "\n",
    "print(f\"{name in url}\")"
   ]
  },
  {
   "cell_type": "code",
   "execution_count": 13,
   "metadata": {},
   "outputs": [
    {
     "name": "stdout",
     "output_type": "stream",
     "text": [
      "False\n"
     ]
    }
   ],
   "source": [
    "rescrape = False\n",
    "is_district = False\n",
    "\n",
    "print(rescrape and not is_district)"
   ]
  },
  {
   "cell_type": "code",
   "execution_count": 12,
   "metadata": {},
   "outputs": [
    {
     "name": "stdout",
     "output_type": "stream",
     "text": [
      "School: mamaroneck-high-school url not allowed during district scraping: https://www.mamkschools.org/schools/mamaroneck-high-school\n"
     ]
    }
   ],
   "source": [
    "schools_in_district: str = \"mamaroneck-high-school, chatsworth-avenue-school, hommocks-middle-school, central-school, murray-avenue-school,\"\n",
    "\n",
    "link = \"https://www.mamkschools.org/schools/mamaroneck-high-school\"\n",
    "\n",
    "matching_school = next((school for school in schools_in_district.split(',') if school.lower().strip() in link), None)\n",
    "if matching_school:\n",
    "    print(f\"School: {matching_school} url not allowed during district scraping: {link}\")\n"
   ]
  },
  {
   "cell_type": "code",
   "execution_count": 8,
   "metadata": {},
   "outputs": [
    {
     "name": "stdout",
     "output_type": "stream",
     "text": [
      "False\n"
     ]
    }
   ],
   "source": [
    "school: str = \"mamaroneck-high-school\"\n",
    "link = \"https://www.mamkschools.org/district/safety-emergency-plan\"\n",
    "print(school.lower() in link.strip())"
   ]
  },
  {
   "cell_type": "code",
   "execution_count": 2,
   "metadata": {},
   "outputs": [
    {
     "name": "stdout",
     "output_type": "stream",
     "text": [
      "Collecting django\n",
      "  Using cached Django-5.1.4-py3-none-any.whl.metadata (4.2 kB)\n",
      "Collecting asgiref<4,>=3.8.1 (from django)\n",
      "  Using cached asgiref-3.8.1-py3-none-any.whl.metadata (9.3 kB)\n",
      "Collecting sqlparse>=0.3.1 (from django)\n",
      "  Using cached sqlparse-0.5.3-py3-none-any.whl.metadata (3.9 kB)\n",
      "Collecting tzdata (from django)\n",
      "  Downloading tzdata-2024.2-py2.py3-none-any.whl.metadata (1.4 kB)\n",
      "Using cached Django-5.1.4-py3-none-any.whl (8.3 MB)\n",
      "Using cached asgiref-3.8.1-py3-none-any.whl (23 kB)\n",
      "Using cached sqlparse-0.5.3-py3-none-any.whl (44 kB)\n",
      "Downloading tzdata-2024.2-py2.py3-none-any.whl (346 kB)\n",
      "   ---------------------------------------- 0.0/346.6 kB ? eta -:--:--\n",
      "   - -------------------------------------- 10.2/346.6 kB ? eta -:--:--\n",
      "   --- ----------------------------------- 30.7/346.6 kB 435.7 kB/s eta 0:00:01\n",
      "   --- ----------------------------------- 30.7/346.6 kB 435.7 kB/s eta 0:00:01\n",
      "   --- ----------------------------------- 30.7/346.6 kB 435.7 kB/s eta 0:00:01\n",
      "   --- ----------------------------------- 30.7/346.6 kB 435.7 kB/s eta 0:00:01\n",
      "   --- ----------------------------------- 30.7/346.6 kB 435.7 kB/s eta 0:00:01\n",
      "   --- ----------------------------------- 30.7/346.6 kB 435.7 kB/s eta 0:00:01\n",
      "   --- ----------------------------------- 30.7/346.6 kB 435.7 kB/s eta 0:00:01\n",
      "   --- ----------------------------------- 30.7/346.6 kB 435.7 kB/s eta 0:00:01\n",
      "   --- ----------------------------------- 30.7/346.6 kB 435.7 kB/s eta 0:00:01\n",
      "   --- ----------------------------------- 30.7/346.6 kB 435.7 kB/s eta 0:00:01\n",
      "   --- ----------------------------------- 30.7/346.6 kB 435.7 kB/s eta 0:00:01\n",
      "   --- ----------------------------------- 30.7/346.6 kB 435.7 kB/s eta 0:00:01\n",
      "   --- ----------------------------------- 30.7/346.6 kB 435.7 kB/s eta 0:00:01\n",
      "   --- ----------------------------------- 30.7/346.6 kB 435.7 kB/s eta 0:00:01\n",
      "   --- ----------------------------------- 30.7/346.6 kB 435.7 kB/s eta 0:00:01\n",
      "   --- ----------------------------------- 30.7/346.6 kB 435.7 kB/s eta 0:00:01\n",
      "   --- ----------------------------------- 30.7/346.6 kB 435.7 kB/s eta 0:00:01\n",
      "   --- ----------------------------------- 30.7/346.6 kB 435.7 kB/s eta 0:00:01\n",
      "   --- ----------------------------------- 30.7/346.6 kB 435.7 kB/s eta 0:00:01\n",
      "   --- ----------------------------------- 30.7/346.6 kB 435.7 kB/s eta 0:00:01\n",
      "   --- ----------------------------------- 30.7/346.6 kB 435.7 kB/s eta 0:00:01\n",
      "   --- ----------------------------------- 30.7/346.6 kB 435.7 kB/s eta 0:00:01\n",
      "   --- ----------------------------------- 30.7/346.6 kB 435.7 kB/s eta 0:00:01\n",
      "   --- ----------------------------------- 30.7/346.6 kB 435.7 kB/s eta 0:00:01\n",
      "   --- ----------------------------------- 30.7/346.6 kB 435.7 kB/s eta 0:00:01\n",
      "   --- ----------------------------------- 30.7/346.6 kB 435.7 kB/s eta 0:00:01\n",
      "   -------- ------------------------------- 71.7/346.6 kB 47.4 kB/s eta 0:00:06\n",
      "   ---------- ----------------------------- 92.2/346.6 kB 62.4 kB/s eta 0:00:05\n",
      "   ---------- ----------------------------- 92.2/346.6 kB 62.4 kB/s eta 0:00:05\n",
      "   ---------- ----------------------------- 92.2/346.6 kB 62.4 kB/s eta 0:00:05\n",
      "   ---------- ----------------------------- 92.2/346.6 kB 62.4 kB/s eta 0:00:05\n",
      "   ---------- ----------------------------- 92.2/346.6 kB 62.4 kB/s eta 0:00:05\n",
      "   ------------ -------------------------- 112.6/346.6 kB 66.9 kB/s eta 0:00:04\n",
      "   ------------ -------------------------- 112.6/346.6 kB 66.9 kB/s eta 0:00:04\n",
      "   ------------ -------------------------- 112.6/346.6 kB 66.9 kB/s eta 0:00:04\n",
      "   ------------ -------------------------- 112.6/346.6 kB 66.9 kB/s eta 0:00:04\n",
      "   ------------ -------------------------- 112.6/346.6 kB 66.9 kB/s eta 0:00:04\n",
      "   ------------ -------------------------- 112.6/346.6 kB 66.9 kB/s eta 0:00:04\n",
      "   ------------ -------------------------- 112.6/346.6 kB 66.9 kB/s eta 0:00:04\n",
      "   ------------ -------------------------- 112.6/346.6 kB 66.9 kB/s eta 0:00:04\n",
      "   ------------ -------------------------- 112.6/346.6 kB 66.9 kB/s eta 0:00:04\n",
      "   ------------ -------------------------- 112.6/346.6 kB 66.9 kB/s eta 0:00:04\n",
      "   ------------ -------------------------- 112.6/346.6 kB 66.9 kB/s eta 0:00:04\n",
      "   ------------ -------------------------- 112.6/346.6 kB 66.9 kB/s eta 0:00:04\n",
      "   ------------ -------------------------- 112.6/346.6 kB 66.9 kB/s eta 0:00:04\n",
      "   ------------ -------------------------- 112.6/346.6 kB 66.9 kB/s eta 0:00:04\n",
      "   ------------ -------------------------- 112.6/346.6 kB 66.9 kB/s eta 0:00:04\n",
      "   ------------ -------------------------- 112.6/346.6 kB 66.9 kB/s eta 0:00:04\n",
      "   ------------ -------------------------- 112.6/346.6 kB 66.9 kB/s eta 0:00:04\n",
      "   ------------ -------------------------- 112.6/346.6 kB 66.9 kB/s eta 0:00:04\n",
      "   ------------ -------------------------- 112.6/346.6 kB 66.9 kB/s eta 0:00:04\n",
      "   ------------ -------------------------- 112.6/346.6 kB 66.9 kB/s eta 0:00:04\n",
      "   ------------ -------------------------- 112.6/346.6 kB 66.9 kB/s eta 0:00:04\n",
      "   ------------ -------------------------- 112.6/346.6 kB 66.9 kB/s eta 0:00:04\n",
      "   ------------ -------------------------- 112.6/346.6 kB 66.9 kB/s eta 0:00:04\n",
      "   ------------ -------------------------- 112.6/346.6 kB 66.9 kB/s eta 0:00:04\n",
      "   ------------ -------------------------- 112.6/346.6 kB 66.9 kB/s eta 0:00:04\n",
      "   ------------ -------------------------- 112.6/346.6 kB 66.9 kB/s eta 0:00:04\n",
      "   ------------ -------------------------- 112.6/346.6 kB 66.9 kB/s eta 0:00:04\n",
      "   ------------ -------------------------- 112.6/346.6 kB 66.9 kB/s eta 0:00:04\n",
      "   ------------ -------------------------- 112.6/346.6 kB 66.9 kB/s eta 0:00:04\n",
      "   ------------ -------------------------- 112.6/346.6 kB 66.9 kB/s eta 0:00:04\n",
      "   ------------ -------------------------- 112.6/346.6 kB 66.9 kB/s eta 0:00:04\n",
      "   ------------ -------------------------- 112.6/346.6 kB 66.9 kB/s eta 0:00:04\n",
      "   ------------ -------------------------- 112.6/346.6 kB 66.9 kB/s eta 0:00:04\n",
      "   ------------ -------------------------- 112.6/346.6 kB 66.9 kB/s eta 0:00:04\n",
      "   ------------ -------------------------- 112.6/346.6 kB 66.9 kB/s eta 0:00:04\n",
      "   ------------ -------------------------- 112.6/346.6 kB 66.9 kB/s eta 0:00:04\n",
      "   ------------ -------------------------- 112.6/346.6 kB 66.9 kB/s eta 0:00:04\n",
      "   ------------- ------------------------- 122.9/346.6 kB 34.7 kB/s eta 0:00:07\n",
      "   ------------- ------------------------- 122.9/346.6 kB 34.7 kB/s eta 0:00:07\n",
      "   ------------- ------------------------- 122.9/346.6 kB 34.7 kB/s eta 0:00:07\n",
      "   ------------- ------------------------- 122.9/346.6 kB 34.7 kB/s eta 0:00:07\n",
      "   ------------- ------------------------- 122.9/346.6 kB 34.7 kB/s eta 0:00:07\n",
      "   ------------- ------------------------- 122.9/346.6 kB 34.7 kB/s eta 0:00:07\n",
      "   ------------- ------------------------- 122.9/346.6 kB 34.7 kB/s eta 0:00:07\n",
      "   ------------- ------------------------- 122.9/346.6 kB 34.7 kB/s eta 0:00:07\n",
      "   ----------------- --------------------- 153.6/346.6 kB 39.9 kB/s eta 0:00:05\n",
      "   ----------------- --------------------- 153.6/346.6 kB 39.9 kB/s eta 0:00:05\n",
      "   ----------------- --------------------- 153.6/346.6 kB 39.9 kB/s eta 0:00:05\n",
      "   ----------------- --------------------- 153.6/346.6 kB 39.9 kB/s eta 0:00:05\n",
      "   ----------------- --------------------- 153.6/346.6 kB 39.9 kB/s eta 0:00:05\n",
      "   ----------------- --------------------- 153.6/346.6 kB 39.9 kB/s eta 0:00:05\n",
      "   ----------------- --------------------- 153.6/346.6 kB 39.9 kB/s eta 0:00:05\n",
      "   ----------------- --------------------- 153.6/346.6 kB 39.9 kB/s eta 0:00:05\n",
      "   ----------------- --------------------- 153.6/346.6 kB 39.9 kB/s eta 0:00:05\n",
      "   ------------------- ------------------- 174.1/346.6 kB 41.0 kB/s eta 0:00:05\n",
      "   ------------------- ------------------- 174.1/346.6 kB 41.0 kB/s eta 0:00:05\n",
      "   ------------------- ------------------- 174.1/346.6 kB 41.0 kB/s eta 0:00:05\n",
      "   ------------------- ------------------- 174.1/346.6 kB 41.0 kB/s eta 0:00:05\n",
      "   ------------------- ------------------- 174.1/346.6 kB 41.0 kB/s eta 0:00:05\n",
      "   ------------------- ------------------- 174.1/346.6 kB 41.0 kB/s eta 0:00:05\n",
      "   ------------------- ------------------- 174.1/346.6 kB 41.0 kB/s eta 0:00:05\n",
      "   ------------------- ------------------- 174.1/346.6 kB 41.0 kB/s eta 0:00:05\n",
      "   ------------------- ------------------- 174.1/346.6 kB 41.0 kB/s eta 0:00:05\n",
      "   ------------------- ------------------- 174.1/346.6 kB 41.0 kB/s eta 0:00:05\n",
      "   ------------------- ------------------- 174.1/346.6 kB 41.0 kB/s eta 0:00:05\n",
      "   ------------------- ------------------- 174.1/346.6 kB 41.0 kB/s eta 0:00:05\n",
      "   ------------------- ------------------- 174.1/346.6 kB 41.0 kB/s eta 0:00:05\n",
      "   ------------------- ------------------- 174.1/346.6 kB 41.0 kB/s eta 0:00:05\n",
      "   --------------------- ----------------- 194.6/346.6 kB 39.7 kB/s eta 0:00:04\n",
      "   --------------------- ----------------- 194.6/346.6 kB 39.7 kB/s eta 0:00:04\n",
      "   --------------------- ----------------- 194.6/346.6 kB 39.7 kB/s eta 0:00:04\n",
      "   --------------------- ----------------- 194.6/346.6 kB 39.7 kB/s eta 0:00:04\n",
      "   --------------------- ----------------- 194.6/346.6 kB 39.7 kB/s eta 0:00:04\n",
      "   --------------------- ----------------- 194.6/346.6 kB 39.7 kB/s eta 0:00:04\n",
      "   --------------------- ----------------- 194.6/346.6 kB 39.7 kB/s eta 0:00:04\n",
      "   --------------------- ----------------- 194.6/346.6 kB 39.7 kB/s eta 0:00:04\n",
      "   --------------------- ----------------- 194.6/346.6 kB 39.7 kB/s eta 0:00:04\n",
      "   -------------------------- ------------ 235.5/346.6 kB 44.8 kB/s eta 0:00:03\n",
      "   -------------------------- ------------ 235.5/346.6 kB 44.8 kB/s eta 0:00:03\n",
      "   -------------------------- ------------ 235.5/346.6 kB 44.8 kB/s eta 0:00:03\n",
      "   -------------------------- ------------ 235.5/346.6 kB 44.8 kB/s eta 0:00:03\n",
      "   -------------------------- ------------ 235.5/346.6 kB 44.8 kB/s eta 0:00:03\n",
      "   -------------------------- ------------ 235.5/346.6 kB 44.8 kB/s eta 0:00:03\n",
      "   -------------------------- ------------ 235.5/346.6 kB 44.8 kB/s eta 0:00:03\n",
      "   -------------------------- ------------ 235.5/346.6 kB 44.8 kB/s eta 0:00:03\n",
      "   -------------------------- ------------ 235.5/346.6 kB 44.8 kB/s eta 0:00:03\n",
      "   -------------------------- ------------ 235.5/346.6 kB 44.8 kB/s eta 0:00:03\n",
      "   -------------------------- ------------ 235.5/346.6 kB 44.8 kB/s eta 0:00:03\n",
      "   -------------------------- ------------ 235.5/346.6 kB 44.8 kB/s eta 0:00:03\n",
      "   -------------------------- ------------ 235.5/346.6 kB 44.8 kB/s eta 0:00:03\n",
      "   ---------------------------- ---------- 256.0/346.6 kB 44.1 kB/s eta 0:00:03\n",
      "   ------------------------------- ------- 276.5/346.6 kB 47.3 kB/s eta 0:00:02\n",
      "   ------------------------------- ------- 276.5/346.6 kB 47.3 kB/s eta 0:00:02\n",
      "   ------------------------------- ------- 276.5/346.6 kB 47.3 kB/s eta 0:00:02\n",
      "   ------------------------------- ------- 276.5/346.6 kB 47.3 kB/s eta 0:00:02\n",
      "   ------------------------------- ------- 276.5/346.6 kB 47.3 kB/s eta 0:00:02\n",
      "   ------------------------------- ------- 276.5/346.6 kB 47.3 kB/s eta 0:00:02\n",
      "   ------------------------------- ------- 276.5/346.6 kB 47.3 kB/s eta 0:00:02\n",
      "   ------------------------------- ------- 276.5/346.6 kB 47.3 kB/s eta 0:00:02\n",
      "   ------------------------------- ------- 276.5/346.6 kB 47.3 kB/s eta 0:00:02\n",
      "   ------------------------------- ------- 276.5/346.6 kB 47.3 kB/s eta 0:00:02\n",
      "   ---------------------------------- ---- 307.2/346.6 kB 48.9 kB/s eta 0:00:01\n",
      "   ---------------------------------- ---- 307.2/346.6 kB 48.9 kB/s eta 0:00:01\n",
      "   ---------------------------------- ---- 307.2/346.6 kB 48.9 kB/s eta 0:00:01\n",
      "   ---------------------------------- ---- 307.2/346.6 kB 48.9 kB/s eta 0:00:01\n",
      "   ---------------------------------- ---- 307.2/346.6 kB 48.9 kB/s eta 0:00:01\n",
      "   ---------------------------------- ---- 307.2/346.6 kB 48.9 kB/s eta 0:00:01\n",
      "   ---------------------------------- ---- 307.2/346.6 kB 48.9 kB/s eta 0:00:01\n",
      "   ---------------------------------- ---- 307.2/346.6 kB 48.9 kB/s eta 0:00:01\n",
      "   ---------------------------------- ---- 307.2/346.6 kB 48.9 kB/s eta 0:00:01\n",
      "   ---------------------------------- ---- 307.2/346.6 kB 48.9 kB/s eta 0:00:01\n",
      "   ---------------------------------- ---- 307.2/346.6 kB 48.9 kB/s eta 0:00:01\n",
      "   ---------------------------------- ---- 307.2/346.6 kB 48.9 kB/s eta 0:00:01\n",
      "   ---------------------------------- ---- 307.2/346.6 kB 48.9 kB/s eta 0:00:01\n",
      "   ---------------------------------- ---- 307.2/346.6 kB 48.9 kB/s eta 0:00:01\n",
      "   ---------------------------------- ---- 307.2/346.6 kB 48.9 kB/s eta 0:00:01\n",
      "   ---------------------------------- ---- 307.2/346.6 kB 48.9 kB/s eta 0:00:01\n",
      "   ---------------------------------- ---- 307.2/346.6 kB 48.9 kB/s eta 0:00:01\n",
      "   ---------------------------------- ---- 307.2/346.6 kB 48.9 kB/s eta 0:00:01\n",
      "   ----------------------------------- --- 317.4/346.6 kB 44.6 kB/s eta 0:00:01\n",
      "   ----------------------------------- --- 317.4/346.6 kB 44.6 kB/s eta 0:00:01\n",
      "   --------------------------------------  337.9/346.6 kB 47.0 kB/s eta 0:00:01\n",
      "   --------------------------------------- 346.6/346.6 kB 48.0 kB/s eta 0:00:00\n",
      "Installing collected packages: tzdata, sqlparse, asgiref, django\n",
      "Successfully installed asgiref-3.8.1 django-5.1.4 sqlparse-0.5.3 tzdata-2024.2\n"
     ]
    },
    {
     "name": "stderr",
     "output_type": "stream",
     "text": [
      "\n",
      "[notice] A new release of pip is available: 24.0 -> 24.3.1\n",
      "[notice] To update, run: python.exe -m pip install --upgrade pip\n"
     ]
    }
   ],
   "source": [
    "!pip install django"
   ]
  },
  {
   "cell_type": "code",
   "execution_count": 3,
   "metadata": {},
   "outputs": [],
   "source": [
    "from django.db import models\n",
    "\n",
    "class SchoolGrades(models.TextChoices):\n",
    "    N = \"N\", \"Nursery\"\n",
    "    N2 = \"N2\", \"Nursery-2\"\n",
    "    PRE_K1 = \"PRE-K1\", \"Pre-Kindergarten-1\"\n",
    "    PRE_K2 = \"PRE-K2\", \"Pre-Kindergarten-2\"\n",
    "    PRE_K = \"PRE-K\", \"Pre-Kindergarten\"\n",
    "    K = \"K\", \"Kindergarten\"\n",
    "    FIRST = \"1\", \"First Grade\"\n",
    "    SECOND = \"2\", \"Second Grade\"\n",
    "    THIRD = \"3\", \"Third Grade\"\n",
    "    FOURTH = \"4\", \"Fourth Grade\"\n",
    "    FIFTH = \"5\", \"Fifth Grade\"\n",
    "    SIX = \"6\", \"Sixth Grade\"\n",
    "    SEVENTH = \"7\", \"Seventh Grade\"\n",
    "    EIGHT = \"8\", \"Eigth Grade\"\n",
    "    NINE = \"9\", \"Ninth Grade\"\n",
    "    TEN = \"10\", \"Tenth Grade\"\n",
    "    ELEVEN = \"11\", \"Eleventh Grade\"\n",
    "    TWELVE = \"12\", \"Twelfth Grade\"\n"
   ]
  },
  {
   "cell_type": "code",
   "execution_count": 4,
   "metadata": {},
   "outputs": [
    {
     "name": "stdout",
     "output_type": "stream",
     "text": [
      "[('N', 'Nursery'), ('N2', 'Nursery-2'), ('PRE-K1', 'Pre-Kindergarten-1'), ('PRE-K2', 'Pre-Kindergarten-2'), ('PRE-K', 'Pre-Kindergarten'), ('K', 'Kindergarten'), ('1', 'First Grade'), ('2', 'Second Grade'), ('3', 'Third Grade'), ('4', 'Fourth Grade'), ('5', 'Fifth Grade'), ('6', 'Sixth Grade'), ('7', 'Seventh Grade'), ('8', 'Eigth Grade'), ('9', 'Ninth Grade'), ('10', 'Tenth Grade'), ('11', 'Eleventh Grade'), ('12', 'Twelfth Grade')]\n"
     ]
    }
   ],
   "source": [
    "print(SchoolGrades.choices)"
   ]
  },
  {
   "cell_type": "code",
   "execution_count": 7,
   "metadata": {},
   "outputs": [
    {
     "name": "stdout",
     "output_type": "stream",
     "text": [
      "['N', 'N2', 'PRE-K1', 'PRE-K2', 'PRE-K', 'K', '1', '2', '3', '4', '5', '6', '7', '8', '9', '10', '11', '12']\n"
     ]
    }
   ],
   "source": [
    "print(SchoolGrades.values)"
   ]
  },
  {
   "cell_type": "code",
   "execution_count": 11,
   "metadata": {},
   "outputs": [
    {
     "name": "stdout",
     "output_type": "stream",
     "text": [
      "FIRST\n"
     ]
    }
   ],
   "source": [
    "first = SchoolGrades(\"1\")\n",
    "print(first.name)"
   ]
  },
  {
   "cell_type": "code",
   "execution_count": 1,
   "metadata": {},
   "outputs": [
    {
     "name": "stdout",
     "output_type": "stream",
     "text": [
      "Requirement already satisfied: gdown in c:\\users\\engraced\\appdata\\local\\programs\\python\\python312\\lib\\site-packages (5.2.0)\n",
      "Requirement already satisfied: beautifulsoup4 in c:\\users\\engraced\\appdata\\local\\programs\\python\\python312\\lib\\site-packages (from gdown) (4.12.3)\n",
      "Requirement already satisfied: filelock in c:\\users\\engraced\\appdata\\local\\programs\\python\\python312\\lib\\site-packages (from gdown) (3.16.1)\n",
      "Requirement already satisfied: requests[socks] in c:\\users\\engraced\\appdata\\local\\programs\\python\\python312\\lib\\site-packages (from gdown) (2.32.3)\n",
      "Requirement already satisfied: tqdm in c:\\users\\engraced\\appdata\\local\\programs\\python\\python312\\lib\\site-packages (from gdown) (4.67.1)\n",
      "Requirement already satisfied: soupsieve>1.2 in c:\\users\\engraced\\appdata\\local\\programs\\python\\python312\\lib\\site-packages (from beautifulsoup4->gdown) (2.6)\n",
      "Requirement already satisfied: charset-normalizer<4,>=2 in c:\\users\\engraced\\appdata\\local\\programs\\python\\python312\\lib\\site-packages (from requests[socks]->gdown) (3.4.1)\n",
      "Requirement already satisfied: idna<4,>=2.5 in c:\\users\\engraced\\appdata\\local\\programs\\python\\python312\\lib\\site-packages (from requests[socks]->gdown) (3.10)\n",
      "Requirement already satisfied: urllib3<3,>=1.21.1 in c:\\users\\engraced\\appdata\\local\\programs\\python\\python312\\lib\\site-packages (from requests[socks]->gdown) (2.3.0)\n",
      "Requirement already satisfied: certifi>=2017.4.17 in c:\\users\\engraced\\appdata\\local\\programs\\python\\python312\\lib\\site-packages (from requests[socks]->gdown) (2024.12.14)\n",
      "Requirement already satisfied: PySocks!=1.5.7,>=1.5.6 in c:\\users\\engraced\\appdata\\local\\programs\\python\\python312\\lib\\site-packages (from requests[socks]->gdown) (1.7.1)\n",
      "Requirement already satisfied: colorama in c:\\users\\engraced\\appdata\\roaming\\python\\python312\\site-packages (from tqdm->gdown) (0.4.6)\n"
     ]
    },
    {
     "name": "stderr",
     "output_type": "stream",
     "text": [
      "\n",
      "[notice] A new release of pip is available: 24.0 -> 24.3.1\n",
      "[notice] To update, run: python.exe -m pip install --upgrade pip\n"
     ]
    }
   ],
   "source": [
    "!pip install gdown"
   ]
  },
  {
   "cell_type": "code",
   "execution_count": 3,
   "metadata": {},
   "outputs": [
    {
     "name": "stdout",
     "output_type": "stream",
     "text": [
      "Collecting wget\n",
      "  Downloading wget-3.2.zip (10 kB)\n",
      "  Installing build dependencies: started\n",
      "  Installing build dependencies: still running...\n",
      "  Installing build dependencies: finished with status 'done'\n",
      "  Getting requirements to build wheel: started\n",
      "  Getting requirements to build wheel: finished with status 'done'\n",
      "  Preparing metadata (pyproject.toml): started\n",
      "  Preparing metadata (pyproject.toml): finished with status 'done'\n",
      "Building wheels for collected packages: wget\n",
      "  Building wheel for wget (pyproject.toml): started\n",
      "  Building wheel for wget (pyproject.toml): finished with status 'done'\n",
      "  Created wheel for wget: filename=wget-3.2-py3-none-any.whl size=9710 sha256=82589161a91cce2ee828c6e07120a8412eac7da1b733fb6c727622b2caf01e18\n",
      "  Stored in directory: c:\\users\\engraced\\appdata\\local\\pip\\cache\\wheels\\01\\46\\3b\\e29ffbe4ebe614ff224bad40fc6a5773a67a163251585a13a9\n",
      "Successfully built wget\n",
      "Installing collected packages: wget\n",
      "Successfully installed wget-3.2\n"
     ]
    },
    {
     "name": "stderr",
     "output_type": "stream",
     "text": [
      "\n",
      "[notice] A new release of pip is available: 24.0 -> 24.3.1\n",
      "[notice] To update, run: C:\\Users\\ENGRACED\\AppData\\Local\\Programs\\Python\\Python312\\python.exe -m pip install --upgrade pip\n"
     ]
    }
   ],
   "source": [
    "!pip install wget"
   ]
  },
  {
   "cell_type": "code",
   "execution_count": 14,
   "metadata": {},
   "outputs": [],
   "source": [
    "from pathlib import Path\n",
    "import gdown\n",
    "import wget\n",
    "import tempfile"
   ]
  },
  {
   "cell_type": "code",
   "execution_count": 12,
   "metadata": {},
   "outputs": [],
   "source": [
    "url = \"https://whitbyschool.app.box.com/s/5wesz544ne0wszacz0jts3e313bs84c5\"\n",
    "output = Path(\"./calendar.pdf\")"
   ]
  },
  {
   "cell_type": "code",
   "execution_count": 17,
   "metadata": {},
   "outputs": [
    {
     "name": "stdout",
     "output_type": "stream",
     "text": [
      "Temporary file created: C:\\Users\\ENGRACED\\AppData\\Local\\Temp\\tmpkjt1cbfo.pdf\n",
      "Google file downloaded successfully.\n"
     ]
    }
   ],
   "source": [
    "with tempfile.NamedTemporaryFile(delete=False, suffix=\".pdf\") as temp_file:\n",
    "    print(f\"Temporary file created: {temp_file.name}\")\n",
    "    wget.download(url=url, out=temp_file.name)\n",
    "    print(\"Google file downloaded successfully.\")\n",
    "            "
   ]
  },
  {
   "cell_type": "code",
   "execution_count": 1,
   "metadata": {},
   "outputs": [
    {
     "ename": "ModuleNotFoundError",
     "evalue": "No module named 'logfire'",
     "output_type": "error",
     "traceback": [
      "\u001b[1;31m---------------------------------------------------------------------------\u001b[0m",
      "\u001b[1;31mModuleNotFoundError\u001b[0m                       Traceback (most recent call last)",
      "Cell \u001b[1;32mIn[1], line 8\u001b[0m\n\u001b[0;32m      5\u001b[0m \u001b[38;5;28;01mfrom\u001b[39;00m \u001b[38;5;21;01mdataclasses\u001b[39;00m \u001b[38;5;28;01mimport\u001b[39;00m dataclass\n\u001b[0;32m      6\u001b[0m \u001b[38;5;28;01mfrom\u001b[39;00m \u001b[38;5;21;01mtyping\u001b[39;00m \u001b[38;5;28;01mimport\u001b[39;00m Any\n\u001b[1;32m----> 8\u001b[0m \u001b[38;5;28;01mimport\u001b[39;00m \u001b[38;5;21;01mlogfire\u001b[39;00m\n\u001b[0;32m      9\u001b[0m \u001b[38;5;28;01mfrom\u001b[39;00m \u001b[38;5;21;01mdevtools\u001b[39;00m \u001b[38;5;28;01mimport\u001b[39;00m debug\n\u001b[0;32m     10\u001b[0m \u001b[38;5;28;01mfrom\u001b[39;00m \u001b[38;5;21;01mhttpx\u001b[39;00m \u001b[38;5;28;01mimport\u001b[39;00m AsyncClient\n",
      "\u001b[1;31mModuleNotFoundError\u001b[0m: No module named 'logfire'"
     ]
    }
   ],
   "source": []
  },
  {
   "cell_type": "code",
   "execution_count": 1,
   "metadata": {},
   "outputs": [],
   "source": [
    "def sum_numbers(n: int) -> int:\n",
    "    \n",
    "    if n == 0:\n",
    "        return 0\n",
    "    else:\n",
    "        return n + sum_numbers(n-1)"
   ]
  },
  {
   "cell_type": "code",
   "execution_count": 3,
   "metadata": {},
   "outputs": [
    {
     "name": "stdout",
     "output_type": "stream",
     "text": [
      "3\n"
     ]
    }
   ],
   "source": [
    "print(sum_numbers(2))"
   ]
  },
  {
   "cell_type": "code",
   "execution_count": 4,
   "metadata": {},
   "outputs": [],
   "source": [
    "def factorial(n: int) -> int:\n",
    "    \n",
    "    if n == 0:\n",
    "        return 1\n",
    "    else:\n",
    "        return n * factorial(n-1)"
   ]
  },
  {
   "cell_type": "code",
   "execution_count": 9,
   "metadata": {},
   "outputs": [],
   "source": [
    "def number_multiple(a:int):\n",
    "    def decorator(func):\n",
    "        def wrapper(*args, **kwargs):\n",
    "            result = a * func(*args, **kwargs)\n",
    "            return result\n",
    "        return wrapper\n",
    "    return decorator"
   ]
  },
  {
   "cell_type": "code",
   "execution_count": 12,
   "metadata": {},
   "outputs": [
    {
     "name": "stdout",
     "output_type": "stream",
     "text": [
      "3\n"
     ]
    }
   ],
   "source": [
    "@number_multiple(1)\n",
    "def get_sum(n: int):\n",
    "    if n == 0:\n",
    "        return 0\n",
    "    else:\n",
    "        return n + get_sum(n-1)\n",
    "    pass\n",
    "\n",
    "print(get_sum(2))"
   ]
  },
  {
   "cell_type": "code",
   "execution_count": 39,
   "metadata": {},
   "outputs": [],
   "source": [
    "from typing import List\n",
    "\n",
    "def merge(nums1: List[int], m: int, nums2: List[int], n: int) -> None:\n",
    "        \"\"\"\n",
    "        Do not return anything, modify nums1 in-place instead.\n",
    "        \"\"\"\n",
    "\n",
    "        # Check if m = 0 and n = 0\n",
    "        # Check if m = 1 and n = 0 => nums1 = nums1\n",
    "        # Check if m = 0 and n = 1 => nums1 = nums2\n",
    "        # Create a new array nums3 containing nums1[:m + 1] + nums2\n",
    "        # Sort nums3 and assign result to nums1\n",
    "\n",
    "        if m == 0 and n == 0:\n",
    "            nums1 = []\n",
    "        elif m == 1 and n ==0:\n",
    "            nums1 = nums1\n",
    "        elif m == 0 and n == 1:\n",
    "            nums1 = nums2\n",
    "\n",
    "        else:\n",
    "            nums3 = nums1[:m] + nums2\n",
    "            nums3.sort(reverse=False)\n",
    "            nums1.clear()\n",
    "            nums1.extend(nums3)\n",
    "    "
   ]
  },
  {
   "cell_type": "code",
   "execution_count": 40,
   "metadata": {},
   "outputs": [],
   "source": [
    "nums1 = [1,2,3,0,0,0]\n",
    "m = 3\n",
    "nums2 = [2,5,6]\n",
    "n = 3"
   ]
  },
  {
   "cell_type": "code",
   "execution_count": 41,
   "metadata": {},
   "outputs": [
    {
     "name": "stdout",
     "output_type": "stream",
     "text": [
      "[1, 2, 2, 3, 5, 6]\n"
     ]
    }
   ],
   "source": [
    "merge(nums1=nums1, m=m, nums2=nums2, n=n)\n",
    "print(nums1)"
   ]
  },
  {
   "cell_type": "code",
   "execution_count": 59,
   "metadata": {},
   "outputs": [],
   "source": [
    "def binary_search(arr, target, low, high):\n",
    "    \n",
    "    if low > high:\n",
    "        return -1\n",
    "    \n",
    "    # Calculate the middle index\n",
    "    mid = (low + high) // 2\n",
    "    \n",
    "    if arr[mid] == target:\n",
    "        return arr[mid]\n",
    "    elif arr[mid] < target:\n",
    "        return binary_search(arr, target, mid + 1, high)\n",
    "    else:\n",
    "        return binary_search(arr, target, low, mid - 1)"
   ]
  },
  {
   "cell_type": "code",
   "execution_count": 60,
   "metadata": {},
   "outputs": [],
   "source": [
    "sorted_list = [1, 3, 5, 0, 9, 11, 13]\n",
    "target = 7"
   ]
  },
  {
   "cell_type": "code",
   "execution_count": 61,
   "metadata": {},
   "outputs": [
    {
     "ename": "RecursionError",
     "evalue": "maximum recursion depth exceeded",
     "output_type": "error",
     "traceback": [
      "\u001b[1;31m---------------------------------------------------------------------------\u001b[0m",
      "\u001b[1;31mRecursionError\u001b[0m                            Traceback (most recent call last)",
      "Cell \u001b[1;32mIn[61], line 1\u001b[0m\n\u001b[1;32m----> 1\u001b[0m result \u001b[38;5;241m=\u001b[39m \u001b[43mbinary_search\u001b[49m\u001b[43m(\u001b[49m\u001b[43msorted_list\u001b[49m\u001b[43m,\u001b[49m\u001b[43m \u001b[49m\u001b[43mtarget\u001b[49m\u001b[43m,\u001b[49m\u001b[43m \u001b[49m\u001b[38;5;241;43m0\u001b[39;49m\u001b[43m,\u001b[49m\u001b[43m \u001b[49m\u001b[38;5;28;43mlen\u001b[39;49m\u001b[43m(\u001b[49m\u001b[43msorted_list\u001b[49m\u001b[43m)\u001b[49m\u001b[43m \u001b[49m\u001b[38;5;241;43m-\u001b[39;49m\u001b[43m \u001b[49m\u001b[38;5;241;43m1\u001b[39;49m\u001b[43m)\u001b[49m\n\u001b[0;32m      2\u001b[0m \u001b[38;5;28mprint\u001b[39m(result)\n",
      "Cell \u001b[1;32mIn[59], line 12\u001b[0m, in \u001b[0;36mbinary_search\u001b[1;34m(arr, target, low, high)\u001b[0m\n\u001b[0;32m     10\u001b[0m     \u001b[38;5;28;01mreturn\u001b[39;00m arr[mid]\n\u001b[0;32m     11\u001b[0m \u001b[38;5;28;01melif\u001b[39;00m arr[mid] \u001b[38;5;241m<\u001b[39m target:\n\u001b[1;32m---> 12\u001b[0m     \u001b[38;5;28;01mreturn\u001b[39;00m \u001b[43mbinary_search\u001b[49m\u001b[43m(\u001b[49m\u001b[43marr\u001b[49m\u001b[43m,\u001b[49m\u001b[43m \u001b[49m\u001b[43mtarget\u001b[49m\u001b[43m,\u001b[49m\u001b[43m \u001b[49m\u001b[43mmid\u001b[49m\u001b[43m \u001b[49m\u001b[38;5;241;43m+\u001b[39;49m\u001b[43m \u001b[49m\u001b[38;5;241;43m1\u001b[39;49m\u001b[43m,\u001b[49m\u001b[43m \u001b[49m\u001b[43mhigh\u001b[49m\u001b[43m)\u001b[49m\n\u001b[0;32m     13\u001b[0m \u001b[38;5;28;01melse\u001b[39;00m:\n\u001b[0;32m     14\u001b[0m     \u001b[38;5;28;01mreturn\u001b[39;00m binary_search(arr, target, low, mid \u001b[38;5;241m-\u001b[39m \u001b[38;5;241m1\u001b[39m)\n",
      "Cell \u001b[1;32mIn[59], line 12\u001b[0m, in \u001b[0;36mbinary_search\u001b[1;34m(arr, target, low, high)\u001b[0m\n\u001b[0;32m     10\u001b[0m     \u001b[38;5;28;01mreturn\u001b[39;00m arr[mid]\n\u001b[0;32m     11\u001b[0m \u001b[38;5;28;01melif\u001b[39;00m arr[mid] \u001b[38;5;241m<\u001b[39m target:\n\u001b[1;32m---> 12\u001b[0m     \u001b[38;5;28;01mreturn\u001b[39;00m \u001b[43mbinary_search\u001b[49m\u001b[43m(\u001b[49m\u001b[43marr\u001b[49m\u001b[43m,\u001b[49m\u001b[43m \u001b[49m\u001b[43mtarget\u001b[49m\u001b[43m,\u001b[49m\u001b[43m \u001b[49m\u001b[43mmid\u001b[49m\u001b[43m \u001b[49m\u001b[38;5;241;43m+\u001b[39;49m\u001b[43m \u001b[49m\u001b[38;5;241;43m1\u001b[39;49m\u001b[43m,\u001b[49m\u001b[43m \u001b[49m\u001b[43mhigh\u001b[49m\u001b[43m)\u001b[49m\n\u001b[0;32m     13\u001b[0m \u001b[38;5;28;01melse\u001b[39;00m:\n\u001b[0;32m     14\u001b[0m     \u001b[38;5;28;01mreturn\u001b[39;00m binary_search(arr, target, low, mid \u001b[38;5;241m-\u001b[39m \u001b[38;5;241m1\u001b[39m)\n",
      "    \u001b[1;31m[... skipping similar frames: binary_search at line 12 (2974 times)]\u001b[0m\n",
      "Cell \u001b[1;32mIn[59], line 12\u001b[0m, in \u001b[0;36mbinary_search\u001b[1;34m(arr, target, low, high)\u001b[0m\n\u001b[0;32m     10\u001b[0m     \u001b[38;5;28;01mreturn\u001b[39;00m arr[mid]\n\u001b[0;32m     11\u001b[0m \u001b[38;5;28;01melif\u001b[39;00m arr[mid] \u001b[38;5;241m<\u001b[39m target:\n\u001b[1;32m---> 12\u001b[0m     \u001b[38;5;28;01mreturn\u001b[39;00m \u001b[43mbinary_search\u001b[49m\u001b[43m(\u001b[49m\u001b[43marr\u001b[49m\u001b[43m,\u001b[49m\u001b[43m \u001b[49m\u001b[43mtarget\u001b[49m\u001b[43m,\u001b[49m\u001b[43m \u001b[49m\u001b[43mmid\u001b[49m\u001b[43m \u001b[49m\u001b[38;5;241;43m+\u001b[39;49m\u001b[43m \u001b[49m\u001b[38;5;241;43m1\u001b[39;49m\u001b[43m,\u001b[49m\u001b[43m \u001b[49m\u001b[43mhigh\u001b[49m\u001b[43m)\u001b[49m\n\u001b[0;32m     13\u001b[0m \u001b[38;5;28;01melse\u001b[39;00m:\n\u001b[0;32m     14\u001b[0m     \u001b[38;5;28;01mreturn\u001b[39;00m binary_search(arr, target, low, mid \u001b[38;5;241m-\u001b[39m \u001b[38;5;241m1\u001b[39m)\n",
      "\u001b[1;31mRecursionError\u001b[0m: maximum recursion depth exceeded"
     ]
    }
   ],
   "source": [
    "result = binary_search(sorted_list, target, 0, len(sorted_list) - 1)\n",
    "print(result)"
   ]
  },
  {
   "cell_type": "code",
   "execution_count": null,
   "metadata": {},
   "outputs": [],
   "source": [
    "import unittest\n",
    "from your_module import LLMTokenManagerService  # Replace 'your_module' with the actual module name\n",
    "\n",
    "class TestLLMTokenManagerService(unittest.TestCase):\n",
    "    def setUp(self):\n",
    "        self.sample_text = \"This is a sample text for testing.\"\n",
    "        self.service = LLMTokenManagerService(input_text=self.sample_text)\n",
    "\n",
    "    def test_count_tokens(self):\n",
    "        token_count = self.service.count_tokens()\n",
    "        self.assertIsInstance(token_count, int)\n",
    "        self.assertGreater(token_count, 0)\n",
    "\n",
    "    def test_count_allowable_tokens(self):\n",
    "        allowable_tokens = self.service.count_allowable_tokens()\n",
    "        self.assertIsInstance(allowable_tokens, int)\n",
    "        self.assertEqual(\n",
    "            allowable_tokens,\n",
    "            self.service.model_context_window_limit - self.service.model_max_output_tokens\n",
    "        )\n",
    "\n",
    "    def test_fit_to_context_window(self):\n",
    "        truncated_text = self.service.fit_to_context_window()\n",
    "        self.assertIsInstance(truncated_text, str)\n",
    "        truncated_token_count = self.service.encoding.encode(truncated_text)\n",
    "        self.assertLessEqual(\n",
    "            len(truncated_token_count) + self.service.model_max_output_tokens,\n",
    "            self.service.model_context_window_limit\n",
    "        )\n",
    "\n",
    "    def test_token_limit_exceeded(self):\n",
    "        self.assertFalse(self.service.token_limit_exceeded())\n",
    "        long_text = \"word \" * 130000  # Create a long text to exceed the limit\n",
    "        long_text_service = LLMTokenManagerService(input_text=long_text)\n",
    "        self.assertTrue(long_text_service.token_limit_exceeded())\n",
    "\n",
    "if __name__ == '__main__':\n",
    "    unittest.main()"
   ]
  }
 ],
 "metadata": {
  "kernelspec": {
   "display_name": "Python 3",
   "language": "python",
   "name": "python3"
  },
  "language_info": {
   "codemirror_mode": {
    "name": "ipython",
    "version": 3
   },
   "file_extension": ".py",
   "mimetype": "text/x-python",
   "name": "python",
   "nbconvert_exporter": "python",
   "pygments_lexer": "ipython3",
   "version": "3.12.4"
  }
 },
 "nbformat": 4,
 "nbformat_minor": 2
}
